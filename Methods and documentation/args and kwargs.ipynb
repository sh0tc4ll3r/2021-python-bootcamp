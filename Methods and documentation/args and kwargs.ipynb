{
 "cells": [
  {
   "cell_type": "markdown",
   "id": "51959f93",
   "metadata": {},
   "source": [
    "they stand for arguments and keyword arguments; they allow for an arbitrary number of arguments and keywords arguments without them being defined in the function call "
   ]
  },
  {
   "cell_type": "code",
   "execution_count": 6,
   "id": "34528bd8",
   "metadata": {},
   "outputs": [],
   "source": [
    "def myfunc(a, b):\n",
    "    # Returns 5% of the sum of a + b\n",
    "    return sum((a, b)) * 0.05"
   ]
  },
  {
   "cell_type": "code",
   "execution_count": 7,
   "id": "8edbcc50",
   "metadata": {},
   "outputs": [
    {
     "data": {
      "text/plain": [
       "5.0"
      ]
     },
     "execution_count": 7,
     "metadata": {},
     "output_type": "execute_result"
    }
   ],
   "source": [
    "myfunc(40, 60)"
   ]
  },
  {
   "cell_type": "markdown",
   "id": "3acb39ad",
   "metadata": {},
   "source": [
    "what if we wanted to work with a bunch of parameters? we could add them on the function call and set them by default to 0, for example; by that would eventually not be a feasable solution. That's where *args comes into play. \n",
    "\n",
    "PD: \"args\" is an arbitrary term by convention, the part implementing the funcionality is the *, which can be followed by anything. "
   ]
  },
  {
   "cell_type": "code",
   "execution_count": 8,
   "id": "4e9b6e39",
   "metadata": {},
   "outputs": [],
   "source": [
    "def myfunc(*args): \n",
    "    return sum(args) * 0.05"
   ]
  },
  {
   "cell_type": "code",
   "execution_count": 9,
   "id": "bb80a997",
   "metadata": {},
   "outputs": [
    {
     "data": {
      "text/plain": [
       "5.0"
      ]
     },
     "execution_count": 9,
     "metadata": {},
     "output_type": "execute_result"
    }
   ],
   "source": [
    "myfunc(40, 60)"
   ]
  },
  {
   "cell_type": "code",
   "execution_count": 11,
   "id": "400214c2",
   "metadata": {},
   "outputs": [
    {
     "data": {
      "text/plain": [
       "5.0"
      ]
     },
     "execution_count": 11,
     "metadata": {},
     "output_type": "execute_result"
    }
   ],
   "source": [
    "myfunc(10, 20, 20, 50)"
   ]
  },
  {
   "cell_type": "markdown",
   "id": "ee20f7da",
   "metadata": {},
   "source": [
    "similarly, we can use *kwargs to assign a dictionary (instead of a tuple) of arguments"
   ]
  },
  {
   "cell_type": "code",
   "execution_count": 29,
   "id": "cc67d602",
   "metadata": {},
   "outputs": [],
   "source": [
    "def myfunc(**kwargs):\n",
    "    if 'fruit' in kwargs:\n",
    "        print(f'My fruit of choice is {kwargs[\"fruit\"]}')\n",
    "    else:\n",
    "        print('No fruits found')"
   ]
  },
  {
   "cell_type": "code",
   "execution_count": 30,
   "id": "59864239",
   "metadata": {},
   "outputs": [
    {
     "name": "stdout",
     "output_type": "stream",
     "text": [
      "My fruit of choice is apple\n"
     ]
    }
   ],
   "source": [
    "myfunc(fruit='apple', whatever='whatever')"
   ]
  },
  {
   "cell_type": "code",
   "execution_count": 31,
   "id": "51ea8526",
   "metadata": {},
   "outputs": [
    {
     "name": "stdout",
     "output_type": "stream",
     "text": [
      "No fruits found\n"
     ]
    }
   ],
   "source": [
    "myfunc(whatever='whatever')"
   ]
  },
  {
   "cell_type": "markdown",
   "id": "28c3fe5c",
   "metadata": {},
   "source": [
    "If using both at the same time; the order in which they are defined matters. So the tuple values **need** to go first and then, the dictionary ones should follos; otherwise we will encounter a **SyntaxError**"
   ]
  },
  {
   "cell_type": "code",
   "execution_count": 35,
   "id": "80a3fdf7",
   "metadata": {},
   "outputs": [],
   "source": [
    "def myfunc(*args, **kwargs):\n",
    "    print(args)\n",
    "    print(kwargs)\n",
    "    print(f'I would like {args[0]} {kwargs[\"food\"]}')"
   ]
  },
  {
   "cell_type": "code",
   "execution_count": 36,
   "id": "97d199cc",
   "metadata": {},
   "outputs": [
    {
     "name": "stdout",
     "output_type": "stream",
     "text": [
      "(10, 20, 30)\n",
      "{'fruit': 'orange', 'food': 'eggs', 'animal': 'dog'}\n",
      "I would like 10 eggs\n"
     ]
    }
   ],
   "source": [
    "myfunc(10, 20, 30, fruit='orange', food='eggs', animal='dog')"
   ]
  }
 ],
 "metadata": {
  "kernelspec": {
   "display_name": "Python 3",
   "language": "python",
   "name": "python3"
  },
  "language_info": {
   "codemirror_mode": {
    "name": "ipython",
    "version": 3
   },
   "file_extension": ".py",
   "mimetype": "text/x-python",
   "name": "python",
   "nbconvert_exporter": "python",
   "pygments_lexer": "ipython3",
   "version": "3.8.8"
  }
 },
 "nbformat": 4,
 "nbformat_minor": 5
}
