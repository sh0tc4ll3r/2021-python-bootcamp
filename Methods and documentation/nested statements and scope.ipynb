{
 "cells": [
  {
   "cell_type": "markdown",
   "id": "618743b5",
   "metadata": {},
   "source": [
    "LEGB format - Locals, Enclosing function locals, Globals and Built in"
   ]
  },
  {
   "cell_type": "code",
   "execution_count": 3,
   "id": "1008112c",
   "metadata": {},
   "outputs": [],
   "source": [
    "x = 25\n",
    "\n",
    "def printer():\n",
    "    x = 50\n",
    "    return x "
   ]
  },
  {
   "cell_type": "code",
   "execution_count": 4,
   "id": "7e48e572",
   "metadata": {},
   "outputs": [
    {
     "name": "stdout",
     "output_type": "stream",
     "text": [
      "25\n"
     ]
    }
   ],
   "source": [
    "print(x)"
   ]
  },
  {
   "cell_type": "code",
   "execution_count": 5,
   "id": "c0c96823",
   "metadata": {},
   "outputs": [
    {
     "name": "stdout",
     "output_type": "stream",
     "text": [
      "50\n"
     ]
    }
   ],
   "source": [
    "print(printer())"
   ]
  },
  {
   "cell_type": "code",
   "execution_count": 7,
   "id": "ac26bcf0",
   "metadata": {},
   "outputs": [],
   "source": [
    "# local example lambda num:num**2"
   ]
  },
  {
   "cell_type": "code",
   "execution_count": 12,
   "id": "7980687a",
   "metadata": {},
   "outputs": [
    {
     "name": "stdout",
     "output_type": "stream",
     "text": [
      "Hello I'm a local variable\n"
     ]
    }
   ],
   "source": [
    "# global example\n",
    "\n",
    "name = 'THIS IS A GLOBAL STRING' # glolbal level \n",
    "\n",
    "def greet(): \n",
    "    name = 'Sammy' # enclosing function\n",
    "    \n",
    "    def hello(): \n",
    "        name = \"I'm a local variable\"\n",
    "        print('Hello ' + name) # looks for local, then enclosing, then global \n",
    "    \n",
    "    hello()\n",
    "\n",
    "greet()"
   ]
  },
  {
   "cell_type": "code",
   "execution_count": 13,
   "id": "e1546d0b",
   "metadata": {},
   "outputs": [
    {
     "data": {
      "text/plain": [
       "<function len(obj, /)>"
      ]
     },
     "execution_count": 13,
     "metadata": {},
     "output_type": "execute_result"
    }
   ],
   "source": [
    "# built in example; careful not to overrite\n",
    "\n",
    "len"
   ]
  },
  {
   "cell_type": "code",
   "execution_count": 22,
   "id": "18ab32fe",
   "metadata": {},
   "outputs": [],
   "source": [
    "x = 50\n",
    "\n",
    "def func(x):\n",
    "    print(f'X is {x}')\n",
    "    \n",
    "    # local reassignment\n",
    "    \n",
    "    x = 200\n",
    "    \n",
    "    print(f'X has been changed to {x}')\n",
    "    "
   ]
  },
  {
   "cell_type": "code",
   "execution_count": 23,
   "id": "3e9fc90f",
   "metadata": {},
   "outputs": [
    {
     "name": "stdout",
     "output_type": "stream",
     "text": [
      "X is 50\n",
      "X has been changed to 200\n"
     ]
    }
   ],
   "source": [
    "func(x)"
   ]
  },
  {
   "cell_type": "code",
   "execution_count": 24,
   "id": "52047a68",
   "metadata": {},
   "outputs": [
    {
     "name": "stdout",
     "output_type": "stream",
     "text": [
      "However, outside the scope of the function, X is still 50\n"
     ]
    }
   ],
   "source": [
    "print(f'However, outside the scope of the function, X is still {x}')"
   ]
  },
  {
   "cell_type": "code",
   "execution_count": 27,
   "id": "ffa03262",
   "metadata": {},
   "outputs": [],
   "source": [
    "# altering a global variable within a function \n",
    "\n",
    "def func():\n",
    "    \n",
    "    global x\n",
    "    x = 33\n",
    "    print(f'Value changed to {x}')"
   ]
  },
  {
   "cell_type": "code",
   "execution_count": 28,
   "id": "7a0a7916",
   "metadata": {},
   "outputs": [
    {
     "name": "stdout",
     "output_type": "stream",
     "text": [
      "Value changed to 33\n"
     ]
    }
   ],
   "source": [
    "func()"
   ]
  },
  {
   "cell_type": "code",
   "execution_count": 32,
   "id": "f26a5f2a",
   "metadata": {},
   "outputs": [
    {
     "name": "stdout",
     "output_type": "stream",
     "text": [
      "value outside the function for x has also been changed to 33\n"
     ]
    }
   ],
   "source": [
    "print(f'value outside the function for x has also been changed to {x}')"
   ]
  },
  {
   "cell_type": "markdown",
   "id": "a457aaef",
   "metadata": {},
   "source": [
    "this shouldn't be done this way in most cases; instead it would be "
   ]
  },
  {
   "cell_type": "code",
   "execution_count": 35,
   "id": "4caf29df",
   "metadata": {},
   "outputs": [],
   "source": [
    "def change_value(x):\n",
    "    x = 33\n",
    "    return x"
   ]
  },
  {
   "cell_type": "code",
   "execution_count": 37,
   "id": "7b72bfbf",
   "metadata": {},
   "outputs": [
    {
     "name": "stdout",
     "output_type": "stream",
     "text": [
      "Current value 50\n",
      "New value 33\n"
     ]
    }
   ],
   "source": [
    "x = 50\n",
    "\n",
    "print(f'Current value {x}')\n",
    "\n",
    "x = change_value(x)\n",
    "\n",
    "print(f'New value {x}')"
   ]
  },
  {
   "cell_type": "code",
   "execution_count": null,
   "id": "30060ef5",
   "metadata": {},
   "outputs": [],
   "source": []
  }
 ],
 "metadata": {
  "kernelspec": {
   "display_name": "Python 3",
   "language": "python",
   "name": "python3"
  },
  "language_info": {
   "codemirror_mode": {
    "name": "ipython",
    "version": 3
   },
   "file_extension": ".py",
   "mimetype": "text/x-python",
   "name": "python",
   "nbconvert_exporter": "python",
   "pygments_lexer": "ipython3",
   "version": "3.8.8"
  }
 },
 "nbformat": 4,
 "nbformat_minor": 5
}
