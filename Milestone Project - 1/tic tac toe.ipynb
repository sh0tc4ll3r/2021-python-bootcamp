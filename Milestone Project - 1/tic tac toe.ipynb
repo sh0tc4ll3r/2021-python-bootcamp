{
 "cells": [
  {
   "cell_type": "code",
   "execution_count": 4,
   "id": "a8a9e84d",
   "metadata": {},
   "outputs": [],
   "source": [
    "from IPython.display import clear_output\n",
    "\n",
    "\n",
    "\n",
    "def display_board(board):\n",
    "    print(board[7] + \"|\" + board[8] + \"|\" + board[9])\n",
    "    print(\"-----\")\n",
    "    print(board[4] + \"|\" + board[5] + \"|\" + board[6])\n",
    "    print(\"-----\")\n",
    "    print(board[1] + \"|\" + board[2] + \"|\" + board[3])\n",
    "    "
   ]
  },
  {
   "cell_type": "code",
   "execution_count": 5,
   "id": "2350347b",
   "metadata": {},
   "outputs": [],
   "source": [
    "def choose_character():\n",
    "    \n",
    "    chosen = False\n",
    "    characters = ['X', 'O']\n",
    "    \n",
    "    while not chosen: \n",
    "        \n",
    "        player1 = input('Choose your character(X/O): ').capitalize()\n",
    "        \n",
    "        if player1 in characters:\n",
    "            if player1 == characters[0]:\n",
    "                return characters\n",
    "            else: \n",
    "                return characters[::-1]\n",
    "        else:\n",
    "            print('Not a viable choice. Try again.')"
   ]
  },
  {
   "cell_type": "code",
   "execution_count": 6,
   "id": "2a0dc5c2",
   "metadata": {},
   "outputs": [],
   "source": [
    "def check_win(board, player_character):\n",
    "    \n",
    "    if (board[7] == board[8] == board[9] == player_character \n",
    "        or board[4] == board[5] == board[6] == player_character\n",
    "        or board[1] == board[2] == board[3] == player_character\n",
    "        or board[7] == board[4] == board[1] == player_character\n",
    "        or board[8] == board[5] == board[2] == player_character\n",
    "        or board[9] == board[6] == board[3] == player_character\n",
    "        or board[7] == board[5] == board[3] == player_character\n",
    "        or board[9] == board[5] == board[1] == player_character\n",
    "       ):\n",
    "        print(f'{player_character} wins!')\n",
    "        return True\n",
    "    else:\n",
    "        return False\n",
    "    "
   ]
  },
  {
   "cell_type": "code",
   "execution_count": 7,
   "id": "4db2fa9b",
   "metadata": {},
   "outputs": [],
   "source": [
    "def check_tie(board):\n",
    "    if ' ' not in board:\n",
    "        print('Tie!')\n",
    "        return True\n",
    "    else:\n",
    "        return False"
   ]
  },
  {
   "cell_type": "code",
   "execution_count": 8,
   "id": "deb19113",
   "metadata": {},
   "outputs": [],
   "source": [
    "def new_move(board, character):\n",
    "    \n",
    "    within_range = False\n",
    "    desired_spot = 'Initial value'\n",
    "    \n",
    "    while desired_spot.isdigit == False or within_range == False:\n",
    "        \n",
    "        desired_spot = input('Select the desired spot(1-9): ')\n",
    "        \n",
    "        if desired_spot.isdigit() == False:\n",
    "            print('Try with a digit.')\n",
    "        elif int(desired_spot) in range(1, 10):\n",
    "            within_range = True\n",
    "        else: \n",
    "            print('Not within the requested range.')\n",
    "            \n",
    "    spot = int(desired_spot)\n",
    "    \n",
    "    if board[spot] == ' ':\n",
    "        board[spot] = character\n",
    "        return True\n",
    "    elif board[spot] == character:\n",
    "        print('You already have that spot!')\n",
    "        return False\n",
    "    else: \n",
    "        print(\"You can't take the other person's spot!\")\n",
    "        return False"
   ]
  },
  {
   "cell_type": "code",
   "execution_count": 24,
   "id": "4b20dbe5",
   "metadata": {},
   "outputs": [],
   "source": [
    "import random\n",
    "\n",
    "def new_game():\n",
    "    board = ['#', ' ', ' ', ' ', ' ', ' ', ' ', ' ', ' ', ' ']\n",
    "    \n",
    "    players = choose_character()\n",
    "    \n",
    "    next_turn = random.randint(0, 1)\n",
    "    \n",
    "    print(f'Player {players[next_turn]}, it has been randomized that you go first')\n",
    "    \n",
    "    while not check_tie(board):\n",
    "        display_board(board)\n",
    "        print(f'Your turn, {players[next_turn]}')\n",
    "        while not new_move(board, players[next_turn]):\n",
    "            pass\n",
    "        clear_output()\n",
    "        if check_win(board, players[next_turn]):\n",
    "            display_board(board)\n",
    "            break\n",
    "        if next_turn == 0:\n",
    "            next_turn = 1\n",
    "        else:\n",
    "            next_turn = 0\n",
    "        \n",
    "        \n",
    "        "
   ]
  },
  {
   "cell_type": "code",
   "execution_count": 25,
   "id": "d6ad53ac",
   "metadata": {},
   "outputs": [],
   "source": [
    "def keep_playing():\n",
    "    \n",
    "    choice = ''\n",
    "    acceptable_changes = ['Y', 'N']\n",
    "    \n",
    "    while choice not in acceptable_changes:\n",
    "        \n",
    "        choice = input(\"Keep playing? (Y/N): \").capitalize()\n",
    "        \n",
    "        if choice not in acceptable_changes:\n",
    "            print(\"Sorry, I don't understand. Try again.\")\n",
    "            \n",
    "    if choice == 'Y':\n",
    "        return True\n",
    "    else:\n",
    "        print('Thank you for playing.')\n",
    "        return False\n",
    "        "
   ]
  },
  {
   "cell_type": "code",
   "execution_count": 26,
   "id": "060fc147",
   "metadata": {},
   "outputs": [],
   "source": [
    "def play():\n",
    "    one_more = True\n",
    "    \n",
    "    while one_more:\n",
    "        new_game()\n",
    "        one_more = keep_playing()"
   ]
  },
  {
   "cell_type": "code",
   "execution_count": 27,
   "id": "5f414e3b",
   "metadata": {},
   "outputs": [
    {
     "name": "stdout",
     "output_type": "stream",
     "text": [
      "O wins!\n",
      "X| |O\n",
      "-----\n",
      "X|O| \n",
      "-----\n",
      "O|X|O\n",
      "Keep playing? (Y/N): n\n",
      "Thank you for playing.\n"
     ]
    }
   ],
   "source": [
    "play()"
   ]
  },
  {
   "cell_type": "code",
   "execution_count": null,
   "id": "4c1137fe",
   "metadata": {},
   "outputs": [],
   "source": []
  }
 ],
 "metadata": {
  "kernelspec": {
   "display_name": "Python 3",
   "language": "python",
   "name": "python3"
  },
  "language_info": {
   "codemirror_mode": {
    "name": "ipython",
    "version": 3
   },
   "file_extension": ".py",
   "mimetype": "text/x-python",
   "name": "python",
   "nbconvert_exporter": "python",
   "pygments_lexer": "ipython3",
   "version": "3.8.8"
  }
 },
 "nbformat": 4,
 "nbformat_minor": 5
}
