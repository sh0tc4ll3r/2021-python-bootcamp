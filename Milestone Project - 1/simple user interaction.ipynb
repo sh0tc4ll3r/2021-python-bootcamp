{
 "cells": [
  {
   "cell_type": "code",
   "execution_count": 1,
   "id": "f06aceae",
   "metadata": {},
   "outputs": [],
   "source": [
    "game_list = [0, 1, 2]"
   ]
  },
  {
   "cell_type": "code",
   "execution_count": 4,
   "id": "f050c022",
   "metadata": {},
   "outputs": [],
   "source": [
    "def display_game(game_list):\n",
    "    print(\"Here is the current list: \")\n",
    "    print(game_list)"
   ]
  },
  {
   "cell_type": "code",
   "execution_count": 3,
   "id": "50b6fd40",
   "metadata": {},
   "outputs": [
    {
     "name": "stdout",
     "output_type": "stream",
     "text": [
      "Here is the current list: \n",
      "[0, 1, 2]\n"
     ]
    }
   ],
   "source": [
    "display_game(game_list)"
   ]
  },
  {
   "cell_type": "code",
   "execution_count": 5,
   "id": "6d15a707",
   "metadata": {},
   "outputs": [],
   "source": [
    "def position_choice():\n",
    "    \n",
    "    choice = ''\n",
    "    acceptable_changes = ['0', '1', '2']\n",
    "    \n",
    "    while choice not in acceptable_changes:\n",
    "        \n",
    "        choice = input(\"Pick a position (0, 1, 2)\")\n",
    "        \n",
    "        if choice not in acceptable_changes:\n",
    "            print('Sorry, invalid choice. Try again.')\n",
    "        \n",
    "    return int(choice)\n",
    "        "
   ]
  },
  {
   "cell_type": "code",
   "execution_count": 5,
   "id": "2c8972f4",
   "metadata": {},
   "outputs": [
    {
     "name": "stdout",
     "output_type": "stream",
     "text": [
      "Pick a position (0, 1, 2)123\n",
      "Sorry, invalid choice. Try again.\n",
      "Pick a position (0, 1, 2)1\n"
     ]
    },
    {
     "data": {
      "text/plain": [
       "1"
      ]
     },
     "execution_count": 5,
     "metadata": {},
     "output_type": "execute_result"
    }
   ],
   "source": [
    "position_choice()"
   ]
  },
  {
   "cell_type": "code",
   "execution_count": 6,
   "id": "a5f7d514",
   "metadata": {},
   "outputs": [],
   "source": [
    "def replace_value(game_list, position):\n",
    "    \n",
    "    user_placement = input(f'Type a string to place at position {position}:')\n",
    "    \n",
    "    game_list[position] = user_placement\n",
    "    \n",
    "    return game_list\n",
    "                           "
   ]
  },
  {
   "cell_type": "code",
   "execution_count": 9,
   "id": "ab1321c0",
   "metadata": {},
   "outputs": [
    {
     "name": "stdout",
     "output_type": "stream",
     "text": [
      "Type a string to place at position 1:whatever\n"
     ]
    },
    {
     "data": {
      "text/plain": [
       "[0, 'whatever', 2]"
      ]
     },
     "execution_count": 9,
     "metadata": {},
     "output_type": "execute_result"
    }
   ],
   "source": [
    "replace_value(game_list, 1)"
   ]
  },
  {
   "cell_type": "code",
   "execution_count": 7,
   "id": "f1770a2b",
   "metadata": {},
   "outputs": [],
   "source": [
    "def keep_playing():\n",
    "    \n",
    "    choice = ''\n",
    "    acceptable_changes = ['Y', 'N']\n",
    "    \n",
    "    while choice not in acceptable_changes:\n",
    "        \n",
    "        choice = input(\"Keep playing? (Y/N): \").capitalize()\n",
    "        \n",
    "        if choice not in acceptable_changes:\n",
    "            print(\"Sorry, I don't understand. Try again.\")\n",
    "            \n",
    "    if choice == 'Y':\n",
    "        return True\n",
    "    else:\n",
    "        print('Thank you for playing.')\n",
    "        return False\n",
    "        "
   ]
  },
  {
   "cell_type": "code",
   "execution_count": null,
   "id": "050386f5",
   "metadata": {},
   "outputs": [],
   "source": [
    "keep_playing()"
   ]
  },
  {
   "cell_type": "code",
   "execution_count": 9,
   "id": "82b67b70",
   "metadata": {},
   "outputs": [
    {
     "name": "stdout",
     "output_type": "stream",
     "text": [
      "Here is the current list: \n",
      "[0, 1, 2]\n",
      "Pick a position (0, 1, 2)0\n",
      "Type a string to place at position 0:new\n",
      "Here is the current list: \n",
      "['new', 1, 2]\n",
      "Keep playing? (Y/N): y\n",
      "Here is the current list: \n",
      "['new', 1, 2]\n",
      "Pick a position (0, 1, 2)1\n",
      "Type a string to place at position 1:words\n",
      "Here is the current list: \n",
      "['new', 'words', 2]\n",
      "Keep playing? (Y/N): y\n",
      "Here is the current list: \n",
      "['new', 'words', 2]\n",
      "Pick a position (0, 1, 2)2\n",
      "Type a string to place at position 2:added\n",
      "Here is the current list: \n",
      "['new', 'words', 'added']\n",
      "Keep playing? (Y/N): n\n",
      "Thank you for playing.\n"
     ]
    }
   ],
   "source": [
    "game_on = True\n",
    "\n",
    "game_list = [0, 1, 2]\n",
    "\n",
    "while game_on:\n",
    "    \n",
    "    display_game(game_list)\n",
    "    \n",
    "    position = position_choice()\n",
    "    \n",
    "    game_list = replace_value(game_list, position)\n",
    "    \n",
    "    display_game(game_list)\n",
    "    \n",
    "    game_on = keep_playing()"
   ]
  },
  {
   "cell_type": "code",
   "execution_count": null,
   "id": "945b7cce",
   "metadata": {},
   "outputs": [],
   "source": []
  }
 ],
 "metadata": {
  "kernelspec": {
   "display_name": "Python 3",
   "language": "python",
   "name": "python3"
  },
  "language_info": {
   "codemirror_mode": {
    "name": "ipython",
    "version": 3
   },
   "file_extension": ".py",
   "mimetype": "text/x-python",
   "name": "python",
   "nbconvert_exporter": "python",
   "pygments_lexer": "ipython3",
   "version": "3.8.8"
  }
 },
 "nbformat": 4,
 "nbformat_minor": 5
}
